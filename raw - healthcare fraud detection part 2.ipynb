{
 "cells": [
  {
   "cell_type": "markdown",
   "metadata": {},
   "source": [
    "# Unsupervised Machine Learning Techniques Assignment I - RY2464\n",
    "\n",
    "**Objective:**\n",
    "- Use two PyOD methods - PCA and KNNs. You can find the PCA and KNNs method in the PyOD module.Links to an external site.\n",
    "- Explain what PCA and KNNs are\n",
    "- analysis of why identify providers as anomalous."
   ]
  },
  {
   "cell_type": "markdown",
   "metadata": {},
   "source": [
    "## Table of Content\n",
    "1. [Preliminary Set Up](#Section_1)\n",
    "2. [EDA](#Section_2)\n",
    "3. [PCA](#Section_3)\n",
    "4. [KNN](#Section_4)"
   ]
  },
  {
   "cell_type": "markdown",
   "metadata": {},
   "source": [
    "## 1. Preliminary Set Up <a class=\"anchor\" id=\"Section_1\"></a>"
   ]
  },
  {
   "cell_type": "code",
   "execution_count": 1,
   "metadata": {},
   "outputs": [],
   "source": [
    "#importing libraries\n",
    "import pandas as pd\n",
    "import numpy as np\n",
    "import matplotlib.pyplot as plt \n",
    "import seaborn as sns\n",
    "import pyod\n",
    "from sklearn.model_selection import train_test_split\n",
    "import plotly\n",
    "import plotly.express as px\n",
    "import plotly.graph_objects as go\n",
    "import warnings\n",
    "warnings.filterwarnings(\"ignore\")"
   ]
  },
  {
   "cell_type": "code",
   "execution_count": 2,
   "metadata": {},
   "outputs": [],
   "source": [
    "df = pd.read_csv('inpatientCharges.csv')"
   ]
  },
  {
   "cell_type": "code",
   "execution_count": 3,
   "metadata": {},
   "outputs": [
    {
     "data": {
      "text/html": [
       "<div>\n",
       "<style scoped>\n",
       "    .dataframe tbody tr th:only-of-type {\n",
       "        vertical-align: middle;\n",
       "    }\n",
       "\n",
       "    .dataframe tbody tr th {\n",
       "        vertical-align: top;\n",
       "    }\n",
       "\n",
       "    .dataframe thead th {\n",
       "        text-align: right;\n",
       "    }\n",
       "</style>\n",
       "<table border=\"1\" class=\"dataframe\">\n",
       "  <thead>\n",
       "    <tr style=\"text-align: right;\">\n",
       "      <th></th>\n",
       "      <th>DRG</th>\n",
       "      <th>Provider_Id</th>\n",
       "      <th>Provider_Name</th>\n",
       "      <th>Provider_StreetAddress</th>\n",
       "      <th>Provider_City</th>\n",
       "      <th>Provider_State</th>\n",
       "      <th>Provider_Zipcode</th>\n",
       "      <th>Hospital_referral_region_desp</th>\n",
       "      <th>Total_Discharges</th>\n",
       "      <th>Average_Covered_Charges</th>\n",
       "      <th>Average_Total_Payments</th>\n",
       "      <th>Average_Medicare_Payment</th>\n",
       "    </tr>\n",
       "  </thead>\n",
       "  <tbody>\n",
       "    <tr>\n",
       "      <th>0</th>\n",
       "      <td>039 - EXTRACRANIAL PROCEDURES W/O CC/MCC</td>\n",
       "      <td>10001</td>\n",
       "      <td>SOUTHEAST ALABAMA MEDICAL CENTER</td>\n",
       "      <td>1108 ROSS CLARK CIRCLE</td>\n",
       "      <td>DOTHAN</td>\n",
       "      <td>AL</td>\n",
       "      <td>36301</td>\n",
       "      <td>AL - Dothan</td>\n",
       "      <td>91</td>\n",
       "      <td>$32963.07</td>\n",
       "      <td>$5777.24</td>\n",
       "      <td>$4763.73</td>\n",
       "    </tr>\n",
       "    <tr>\n",
       "      <th>1</th>\n",
       "      <td>039 - EXTRACRANIAL PROCEDURES W/O CC/MCC</td>\n",
       "      <td>10005</td>\n",
       "      <td>MARSHALL MEDICAL CENTER SOUTH</td>\n",
       "      <td>2505 U S HIGHWAY 431 NORTH</td>\n",
       "      <td>BOAZ</td>\n",
       "      <td>AL</td>\n",
       "      <td>35957</td>\n",
       "      <td>AL - Birmingham</td>\n",
       "      <td>14</td>\n",
       "      <td>$15131.85</td>\n",
       "      <td>$5787.57</td>\n",
       "      <td>$4976.71</td>\n",
       "    </tr>\n",
       "    <tr>\n",
       "      <th>2</th>\n",
       "      <td>039 - EXTRACRANIAL PROCEDURES W/O CC/MCC</td>\n",
       "      <td>10006</td>\n",
       "      <td>ELIZA COFFEE MEMORIAL HOSPITAL</td>\n",
       "      <td>205 MARENGO STREET</td>\n",
       "      <td>FLORENCE</td>\n",
       "      <td>AL</td>\n",
       "      <td>35631</td>\n",
       "      <td>AL - Birmingham</td>\n",
       "      <td>24</td>\n",
       "      <td>$37560.37</td>\n",
       "      <td>$5434.95</td>\n",
       "      <td>$4453.79</td>\n",
       "    </tr>\n",
       "    <tr>\n",
       "      <th>3</th>\n",
       "      <td>039 - EXTRACRANIAL PROCEDURES W/O CC/MCC</td>\n",
       "      <td>10011</td>\n",
       "      <td>ST VINCENT'S EAST</td>\n",
       "      <td>50 MEDICAL PARK EAST DRIVE</td>\n",
       "      <td>BIRMINGHAM</td>\n",
       "      <td>AL</td>\n",
       "      <td>35235</td>\n",
       "      <td>AL - Birmingham</td>\n",
       "      <td>25</td>\n",
       "      <td>$13998.28</td>\n",
       "      <td>$5417.56</td>\n",
       "      <td>$4129.16</td>\n",
       "    </tr>\n",
       "    <tr>\n",
       "      <th>4</th>\n",
       "      <td>039 - EXTRACRANIAL PROCEDURES W/O CC/MCC</td>\n",
       "      <td>10016</td>\n",
       "      <td>SHELBY BAPTIST MEDICAL CENTER</td>\n",
       "      <td>1000 FIRST STREET NORTH</td>\n",
       "      <td>ALABASTER</td>\n",
       "      <td>AL</td>\n",
       "      <td>35007</td>\n",
       "      <td>AL - Birmingham</td>\n",
       "      <td>18</td>\n",
       "      <td>$31633.27</td>\n",
       "      <td>$5658.33</td>\n",
       "      <td>$4851.44</td>\n",
       "    </tr>\n",
       "  </tbody>\n",
       "</table>\n",
       "</div>"
      ],
      "text/plain": [
       "                                        DRG  Provider_Id  \\\n",
       "0  039 - EXTRACRANIAL PROCEDURES W/O CC/MCC        10001   \n",
       "1  039 - EXTRACRANIAL PROCEDURES W/O CC/MCC        10005   \n",
       "2  039 - EXTRACRANIAL PROCEDURES W/O CC/MCC        10006   \n",
       "3  039 - EXTRACRANIAL PROCEDURES W/O CC/MCC        10011   \n",
       "4  039 - EXTRACRANIAL PROCEDURES W/O CC/MCC        10016   \n",
       "\n",
       "                      Provider_Name      Provider_StreetAddress Provider_City  \\\n",
       "0  SOUTHEAST ALABAMA MEDICAL CENTER      1108 ROSS CLARK CIRCLE        DOTHAN   \n",
       "1     MARSHALL MEDICAL CENTER SOUTH  2505 U S HIGHWAY 431 NORTH          BOAZ   \n",
       "2    ELIZA COFFEE MEMORIAL HOSPITAL          205 MARENGO STREET      FLORENCE   \n",
       "3                 ST VINCENT'S EAST  50 MEDICAL PARK EAST DRIVE    BIRMINGHAM   \n",
       "4     SHELBY BAPTIST MEDICAL CENTER     1000 FIRST STREET NORTH     ALABASTER   \n",
       "\n",
       "  Provider_State  Provider_Zipcode Hospital_referral_region_desp  \\\n",
       "0             AL             36301                   AL - Dothan   \n",
       "1             AL             35957               AL - Birmingham   \n",
       "2             AL             35631               AL - Birmingham   \n",
       "3             AL             35235               AL - Birmingham   \n",
       "4             AL             35007               AL - Birmingham   \n",
       "\n",
       "   Total_Discharges Average_Covered_Charges Average_Total_Payments  \\\n",
       "0                91               $32963.07               $5777.24   \n",
       "1                14               $15131.85               $5787.57   \n",
       "2                24               $37560.37               $5434.95   \n",
       "3                25               $13998.28               $5417.56   \n",
       "4                18               $31633.27               $5658.33   \n",
       "\n",
       "  Average_Medicare_Payment  \n",
       "0                 $4763.73  \n",
       "1                 $4976.71  \n",
       "2                 $4453.79  \n",
       "3                 $4129.16  \n",
       "4                 $4851.44  "
      ]
     },
     "execution_count": 3,
     "metadata": {},
     "output_type": "execute_result"
    }
   ],
   "source": [
    "df.columns = ['DRG','Provider_Id', 'Provider_Name','Provider_StreetAddress','Provider_City',\n",
    "               'Provider_State','Provider_Zipcode','Hospital_referral_region_desp',\n",
    "                'Total_Discharges','Average_Covered_Charges','Average_Total_Payments',\n",
    "                'Average_Medicare_Payment']\n",
    "df.head()"
   ]
  },
  {
   "cell_type": "markdown",
   "metadata": {},
   "source": [
    "- **Total discharges**: The number of discharges billed by the provider for inpatient hospital services. When you leave a hospital after treatment, you go through a process called hospital discharge.\n",
    "\n",
    "- **Covered Charges**: Charges for covered services that your health plan paid for. There may be a limit on covered charges if you receive services from providers outside your plan's network of providers. Covered Person - Any person covered under the plan. Covered Service - A healthcare provider’s service or medical supplies covered by your health plan. Benefits will be given for these services based on your plan.\n",
    "\n",
    "- **Total Covered Charge Amount** = the sum of all covered charges\n",
    "\n",
    "- **Average Covered Charges** = Total Covered Charge Amount / Total Discharges\n",
    "\n",
    "- Payment is the amount a hospital actually receives for providing patient care. This is the actual amount paid to a hospital by consumers, insurers or governments. The sources of payment are: \n",
    "    1. Medicare and Medicaid \n",
    "    2. Private insurer if any\n",
    "    3. The Patient\n",
    "\n",
    "- **Average Total Payments** = Total Payments / Total Discharges\n",
    "\n",
    "- **Average Medicare Payments** = Medicare Payment Amount / Total Discharges"
   ]
  },
  {
   "cell_type": "markdown",
   "metadata": {},
   "source": [
    "### Converting Columns into the correct datatype"
   ]
  },
  {
   "cell_type": "code",
   "execution_count": 4,
   "metadata": {},
   "outputs": [],
   "source": [
    "df['DRG'] = df['DRG'].astype('category')\n",
    "df['Provider_State'] = df['Provider_State'].astype('category')\n",
    "df['Provider_City'] = df['Provider_City'].astype('category')\n",
    "df['Provider_Id'] = df['Provider_Id'].astype('category')\n",
    "df['Provider_Zipcode'] = df['Provider_Zipcode'].astype('category')\n",
    "\n",
    "df['Average_Covered_Charges'] = (df['Average_Covered_Charges']\n",
    "                              .str.replace(r'[^-+\\d.]', '').astype(float))\n",
    "\n",
    "df['Average_Total_Payments'] = (df['Average_Total_Payments']\n",
    "                              .str.replace(r'[^-+\\d.]', '').astype(float))\n",
    "df['Average_Medicare_Payment'] = (df['Average_Medicare_Payment']\n",
    "                              .str.replace(r'[^-+\\d.]', '').astype(float))\n",
    "df['Medicare_Per']=df['Average_Medicare_Payment']/df['Average_Total_Payments'] # percentage covered by medicare"
   ]
  },
  {
   "cell_type": "code",
   "execution_count": 5,
   "metadata": {},
   "outputs": [
    {
     "data": {
      "text/html": [
       "<div>\n",
       "<style scoped>\n",
       "    .dataframe tbody tr th:only-of-type {\n",
       "        vertical-align: middle;\n",
       "    }\n",
       "\n",
       "    .dataframe tbody tr th {\n",
       "        vertical-align: top;\n",
       "    }\n",
       "\n",
       "    .dataframe thead th {\n",
       "        text-align: right;\n",
       "    }\n",
       "</style>\n",
       "<table border=\"1\" class=\"dataframe\">\n",
       "  <thead>\n",
       "    <tr style=\"text-align: right;\">\n",
       "      <th></th>\n",
       "      <th>Total_Discharges</th>\n",
       "      <th>Average_Covered_Charges</th>\n",
       "      <th>Average_Total_Payments</th>\n",
       "      <th>Average_Medicare_Payment</th>\n",
       "      <th>Medicare_Per</th>\n",
       "    </tr>\n",
       "  </thead>\n",
       "  <tbody>\n",
       "    <tr>\n",
       "      <th>count</th>\n",
       "      <td>163065.000000</td>\n",
       "      <td>163065.000000</td>\n",
       "      <td>163065.000000</td>\n",
       "      <td>163065.000000</td>\n",
       "      <td>163065.000000</td>\n",
       "    </tr>\n",
       "    <tr>\n",
       "      <th>mean</th>\n",
       "      <td>42.776304</td>\n",
       "      <td>36133.954224</td>\n",
       "      <td>9707.473804</td>\n",
       "      <td>8494.490964</td>\n",
       "      <td>0.846545</td>\n",
       "    </tr>\n",
       "    <tr>\n",
       "      <th>std</th>\n",
       "      <td>51.104042</td>\n",
       "      <td>35065.365931</td>\n",
       "      <td>7664.642598</td>\n",
       "      <td>7309.467261</td>\n",
       "      <td>0.087911</td>\n",
       "    </tr>\n",
       "    <tr>\n",
       "      <th>min</th>\n",
       "      <td>11.000000</td>\n",
       "      <td>2459.400000</td>\n",
       "      <td>2673.000000</td>\n",
       "      <td>1148.900000</td>\n",
       "      <td>0.043155</td>\n",
       "    </tr>\n",
       "    <tr>\n",
       "      <th>25%</th>\n",
       "      <td>17.000000</td>\n",
       "      <td>15947.160000</td>\n",
       "      <td>5234.500000</td>\n",
       "      <td>4192.350000</td>\n",
       "      <td>0.796634</td>\n",
       "    </tr>\n",
       "    <tr>\n",
       "      <th>50%</th>\n",
       "      <td>27.000000</td>\n",
       "      <td>25245.820000</td>\n",
       "      <td>7214.100000</td>\n",
       "      <td>6158.460000</td>\n",
       "      <td>0.860189</td>\n",
       "    </tr>\n",
       "    <tr>\n",
       "      <th>75%</th>\n",
       "      <td>49.000000</td>\n",
       "      <td>43232.590000</td>\n",
       "      <td>11286.400000</td>\n",
       "      <td>10056.880000</td>\n",
       "      <td>0.913504</td>\n",
       "    </tr>\n",
       "    <tr>\n",
       "      <th>max</th>\n",
       "      <td>3383.000000</td>\n",
       "      <td>929118.900000</td>\n",
       "      <td>156158.180000</td>\n",
       "      <td>154620.810000</td>\n",
       "      <td>1.000000</td>\n",
       "    </tr>\n",
       "  </tbody>\n",
       "</table>\n",
       "</div>"
      ],
      "text/plain": [
       "       Total_Discharges  Average_Covered_Charges  Average_Total_Payments  \\\n",
       "count     163065.000000            163065.000000           163065.000000   \n",
       "mean          42.776304             36133.954224             9707.473804   \n",
       "std           51.104042             35065.365931             7664.642598   \n",
       "min           11.000000              2459.400000             2673.000000   \n",
       "25%           17.000000             15947.160000             5234.500000   \n",
       "50%           27.000000             25245.820000             7214.100000   \n",
       "75%           49.000000             43232.590000            11286.400000   \n",
       "max         3383.000000            929118.900000           156158.180000   \n",
       "\n",
       "       Average_Medicare_Payment   Medicare_Per  \n",
       "count             163065.000000  163065.000000  \n",
       "mean                8494.490964       0.846545  \n",
       "std                 7309.467261       0.087911  \n",
       "min                 1148.900000       0.043155  \n",
       "25%                 4192.350000       0.796634  \n",
       "50%                 6158.460000       0.860189  \n",
       "75%                10056.880000       0.913504  \n",
       "max               154620.810000       1.000000  "
      ]
     },
     "execution_count": 5,
     "metadata": {},
     "output_type": "execute_result"
    }
   ],
   "source": [
    "df.describe()"
   ]
  },
  {
   "cell_type": "code",
   "execution_count": null,
   "metadata": {},
   "outputs": [],
   "source": []
  },
  {
   "cell_type": "markdown",
   "metadata": {},
   "source": [
    "## 2. Features<a class=\"anchor\" id=\"Section_2\"></a>\n",
    "1. Ratio of Provider's median Average Total Payment within a DRG relative to Referral Group Median\n",
    "2. Ratio of Provider's median Average Total Medicare Payment within a DRG relative to Referral Group Median\n",
    "3. Ratio of Provider's median Average Total Medicare Payment within a DRG relative to State Median\n",
    "4. Ratio of Provider's median Average Total Payment within a DRG relative to State Median\n",
    "5. Ratio of Total Discharges comparing to national median within DRG group\n",
    "6. Ratio of Patient out-of-pocket payment comparing to state and DRG median\n",
    "7. Ratio of Provider's Efficency (Total Payments/Total Covered Charges) relative to DRG and State Median\n",
    "8. Ratio of Provider's Discharge_to_Payment_Ratio (Total Discharges/Total Payments) Relative to DRG and State Median\n",
    "\n",
    "\n",
    "I believe selecting the above features give us insight on comparing metrics that highlight deviation between individual provider behaviors and broader benchmarks within specific Diagnosis Related Groups, referral groups, state medians, and national averages. Significant deviation from multiple benchmark can hint potential abuse or fraud practice."
   ]
  },
  {
   "cell_type": "markdown",
   "metadata": {},
   "source": [
    "for this, I am going to load the dataframe with all the features added in previous homework, and take out features interested."
   ]
  },
  {
   "cell_type": "code",
   "execution_count": 6,
   "metadata": {},
   "outputs": [],
   "source": [
    "df1 = pd.read_csv('inpatient_with_features.csv')\n",
    "#drop irrelevant column\n",
    "df1=df1[['DRG', 'Provider_Id', 'Provider_Name',\n",
    "       'Provider_StreetAddress', 'Provider_City', 'Provider_State',\n",
    "       'Provider_Zipcode', 'Hospital_referral_region_desp', 'Total_Discharges',\n",
    "       'Average_Covered_Charges', 'Average_Total_Payments','Average_Medicare_Payment',\n",
    "       'TC_to_DRG_reg_Median_Ratio', 'TC_to_DRG_reg_medi_Ratio',\n",
    "       'Medicare_Payment_Ratio','TC_to_DRG_ST_Median_Ratio','Discharge_to_National_Median_Ratio',\n",
    "       'st_Patient_Pay_Ratio', 'Cost_Efficiency','st_Discharge_to_Payment_Ratio']]\n",
    "\n",
    "       \n",
    "df1.columns = [['DRG', 'Provider_Id', 'Provider_Name',\n",
    "       'Provider_StreetAddress', 'Provider_City', 'Provider_State',\n",
    "       'Provider_Zipcode', 'Hospital_referral_region_desp', 'Total_Discharges',\n",
    "       'Average_Covered_Charges', 'Average_Total_Payments','Average_Medicare_Payment',\n",
    "       'TC_to_DRG_ref_Median_Ratio','MC_to_DRG_ref_Median_Ratio',\n",
    "       'MC_to_DRG_st_Median_Ratio','TC_to_DRG_st_Median_Ratio','Discharge_to_National_Median_Ratio',\n",
    "       'Patient_Pay_st_DRG_Ratio', 'Cost_Efficiency_st_DRG_Ratio','Discharge_to_Payment_st_Ratio']]"
   ]
  },
  {
   "cell_type": "code",
   "execution_count": 7,
   "metadata": {},
   "outputs": [
    {
     "data": {
      "text/html": [
       "<div>\n",
       "<style scoped>\n",
       "    .dataframe tbody tr th:only-of-type {\n",
       "        vertical-align: middle;\n",
       "    }\n",
       "\n",
       "    .dataframe tbody tr th {\n",
       "        vertical-align: top;\n",
       "    }\n",
       "\n",
       "    .dataframe thead tr th {\n",
       "        text-align: left;\n",
       "    }\n",
       "</style>\n",
       "<table border=\"1\" class=\"dataframe\">\n",
       "  <thead>\n",
       "    <tr>\n",
       "      <th></th>\n",
       "      <th>Provider_Id</th>\n",
       "      <th>Provider_Zipcode</th>\n",
       "      <th>Total_Discharges</th>\n",
       "      <th>Average_Covered_Charges</th>\n",
       "      <th>Average_Total_Payments</th>\n",
       "      <th>Average_Medicare_Payment</th>\n",
       "      <th>TC_to_DRG_ref_Median_Ratio</th>\n",
       "      <th>MC_to_DRG_ref_Median_Ratio</th>\n",
       "      <th>MC_to_DRG_st_Median_Ratio</th>\n",
       "      <th>TC_to_DRG_st_Median_Ratio</th>\n",
       "      <th>Discharge_to_National_Median_Ratio</th>\n",
       "      <th>Patient_Pay_st_DRG_Ratio</th>\n",
       "      <th>Cost_Efficiency_st_DRG_Ratio</th>\n",
       "      <th>Discharge_to_Payment_st_Ratio</th>\n",
       "    </tr>\n",
       "  </thead>\n",
       "  <tbody>\n",
       "    <tr>\n",
       "      <th>count</th>\n",
       "      <td>163065.000000</td>\n",
       "      <td>163065.000000</td>\n",
       "      <td>163065.000000</td>\n",
       "      <td>163065.000000</td>\n",
       "      <td>163065.000000</td>\n",
       "      <td>163065.000000</td>\n",
       "      <td>163065.000000</td>\n",
       "      <td>163065.000000</td>\n",
       "      <td>163065.000000</td>\n",
       "      <td>163065.000000</td>\n",
       "      <td>163065.000000</td>\n",
       "      <td>163065.000000</td>\n",
       "      <td>163065.000000</td>\n",
       "      <td>163065.000000</td>\n",
       "    </tr>\n",
       "    <tr>\n",
       "      <th>mean</th>\n",
       "      <td>255569.865428</td>\n",
       "      <td>47938.121908</td>\n",
       "      <td>42.776304</td>\n",
       "      <td>36133.954224</td>\n",
       "      <td>9707.473804</td>\n",
       "      <td>8494.490964</td>\n",
       "      <td>1.036331</td>\n",
       "      <td>1.038494</td>\n",
       "      <td>1.055484</td>\n",
       "      <td>1.050746</td>\n",
       "      <td>1.288741</td>\n",
       "      <td>1.137393</td>\n",
       "      <td>0.334889</td>\n",
       "      <td>1.190795</td>\n",
       "    </tr>\n",
       "    <tr>\n",
       "      <th>std</th>\n",
       "      <td>151563.671767</td>\n",
       "      <td>27854.323080</td>\n",
       "      <td>51.104042</td>\n",
       "      <td>35065.365931</td>\n",
       "      <td>7664.642598</td>\n",
       "      <td>7309.467261</td>\n",
       "      <td>0.179935</td>\n",
       "      <td>0.196388</td>\n",
       "      <td>0.234139</td>\n",
       "      <td>0.211465</td>\n",
       "      <td>1.017942</td>\n",
       "      <td>0.665172</td>\n",
       "      <td>0.177397</td>\n",
       "      <td>0.856414</td>\n",
       "    </tr>\n",
       "    <tr>\n",
       "      <th>min</th>\n",
       "      <td>10001.000000</td>\n",
       "      <td>1040.000000</td>\n",
       "      <td>11.000000</td>\n",
       "      <td>2459.400000</td>\n",
       "      <td>2673.000000</td>\n",
       "      <td>1148.900000</td>\n",
       "      <td>0.416786</td>\n",
       "      <td>0.331728</td>\n",
       "      <td>0.367836</td>\n",
       "      <td>0.517695</td>\n",
       "      <td>0.105769</td>\n",
       "      <td>0.000000</td>\n",
       "      <td>0.042346</td>\n",
       "      <td>0.016142</td>\n",
       "    </tr>\n",
       "    <tr>\n",
       "      <th>25%</th>\n",
       "      <td>110092.000000</td>\n",
       "      <td>27261.000000</td>\n",
       "      <td>17.000000</td>\n",
       "      <td>15947.160000</td>\n",
       "      <td>5234.500000</td>\n",
       "      <td>4192.350000</td>\n",
       "      <td>0.942559</td>\n",
       "      <td>0.935187</td>\n",
       "      <td>0.916191</td>\n",
       "      <td>0.925511</td>\n",
       "      <td>0.666667</td>\n",
       "      <td>0.821175</td>\n",
       "      <td>0.215690</td>\n",
       "      <td>0.656856</td>\n",
       "    </tr>\n",
       "    <tr>\n",
       "      <th>50%</th>\n",
       "      <td>250007.000000</td>\n",
       "      <td>44309.000000</td>\n",
       "      <td>27.000000</td>\n",
       "      <td>25245.820000</td>\n",
       "      <td>7214.100000</td>\n",
       "      <td>6158.460000</td>\n",
       "      <td>1.000000</td>\n",
       "      <td>1.000000</td>\n",
       "      <td>1.000000</td>\n",
       "      <td>1.000000</td>\n",
       "      <td>1.000000</td>\n",
       "      <td>1.000000</td>\n",
       "      <td>0.297683</td>\n",
       "      <td>1.000000</td>\n",
       "    </tr>\n",
       "    <tr>\n",
       "      <th>75%</th>\n",
       "      <td>380075.000000</td>\n",
       "      <td>72901.000000</td>\n",
       "      <td>49.000000</td>\n",
       "      <td>43232.590000</td>\n",
       "      <td>11286.400000</td>\n",
       "      <td>10056.880000</td>\n",
       "      <td>1.076226</td>\n",
       "      <td>1.082952</td>\n",
       "      <td>1.121178</td>\n",
       "      <td>1.112126</td>\n",
       "      <td>1.583333</td>\n",
       "      <td>1.241161</td>\n",
       "      <td>0.403780</td>\n",
       "      <td>1.466556</td>\n",
       "    </tr>\n",
       "    <tr>\n",
       "      <th>max</th>\n",
       "      <td>670077.000000</td>\n",
       "      <td>99835.000000</td>\n",
       "      <td>3383.000000</td>\n",
       "      <td>929118.900000</td>\n",
       "      <td>156158.180000</td>\n",
       "      <td>154620.810000</td>\n",
       "      <td>8.618473</td>\n",
       "      <td>5.733904</td>\n",
       "      <td>6.030981</td>\n",
       "      <td>9.338775</td>\n",
       "      <td>74.809524</td>\n",
       "      <td>19.385306</td>\n",
       "      <td>5.207929</td>\n",
       "      <td>21.961239</td>\n",
       "    </tr>\n",
       "  </tbody>\n",
       "</table>\n",
       "</div>"
      ],
      "text/plain": [
       "         Provider_Id Provider_Zipcode Total_Discharges  \\\n",
       "count  163065.000000    163065.000000    163065.000000   \n",
       "mean   255569.865428     47938.121908        42.776304   \n",
       "std    151563.671767     27854.323080        51.104042   \n",
       "min     10001.000000      1040.000000        11.000000   \n",
       "25%    110092.000000     27261.000000        17.000000   \n",
       "50%    250007.000000     44309.000000        27.000000   \n",
       "75%    380075.000000     72901.000000        49.000000   \n",
       "max    670077.000000     99835.000000      3383.000000   \n",
       "\n",
       "      Average_Covered_Charges Average_Total_Payments Average_Medicare_Payment  \\\n",
       "count           163065.000000          163065.000000            163065.000000   \n",
       "mean             36133.954224            9707.473804              8494.490964   \n",
       "std              35065.365931            7664.642598              7309.467261   \n",
       "min               2459.400000            2673.000000              1148.900000   \n",
       "25%              15947.160000            5234.500000              4192.350000   \n",
       "50%              25245.820000            7214.100000              6158.460000   \n",
       "75%              43232.590000           11286.400000             10056.880000   \n",
       "max             929118.900000          156158.180000            154620.810000   \n",
       "\n",
       "      TC_to_DRG_ref_Median_Ratio MC_to_DRG_ref_Median_Ratio  \\\n",
       "count              163065.000000              163065.000000   \n",
       "mean                    1.036331                   1.038494   \n",
       "std                     0.179935                   0.196388   \n",
       "min                     0.416786                   0.331728   \n",
       "25%                     0.942559                   0.935187   \n",
       "50%                     1.000000                   1.000000   \n",
       "75%                     1.076226                   1.082952   \n",
       "max                     8.618473                   5.733904   \n",
       "\n",
       "      MC_to_DRG_st_Median_Ratio TC_to_DRG_st_Median_Ratio  \\\n",
       "count             163065.000000             163065.000000   \n",
       "mean                   1.055484                  1.050746   \n",
       "std                    0.234139                  0.211465   \n",
       "min                    0.367836                  0.517695   \n",
       "25%                    0.916191                  0.925511   \n",
       "50%                    1.000000                  1.000000   \n",
       "75%                    1.121178                  1.112126   \n",
       "max                    6.030981                  9.338775   \n",
       "\n",
       "      Discharge_to_National_Median_Ratio Patient_Pay_st_DRG_Ratio  \\\n",
       "count                      163065.000000            163065.000000   \n",
       "mean                            1.288741                 1.137393   \n",
       "std                             1.017942                 0.665172   \n",
       "min                             0.105769                 0.000000   \n",
       "25%                             0.666667                 0.821175   \n",
       "50%                             1.000000                 1.000000   \n",
       "75%                             1.583333                 1.241161   \n",
       "max                            74.809524                19.385306   \n",
       "\n",
       "      Cost_Efficiency_st_DRG_Ratio Discharge_to_Payment_st_Ratio  \n",
       "count                163065.000000                 163065.000000  \n",
       "mean                      0.334889                      1.190795  \n",
       "std                       0.177397                      0.856414  \n",
       "min                       0.042346                      0.016142  \n",
       "25%                       0.215690                      0.656856  \n",
       "50%                       0.297683                      1.000000  \n",
       "75%                       0.403780                      1.466556  \n",
       "max                       5.207929                     21.961239  "
      ]
     },
     "execution_count": 7,
     "metadata": {},
     "output_type": "execute_result"
    }
   ],
   "source": [
    "df1.describe()"
   ]
  },
  {
   "cell_type": "code",
   "execution_count": 8,
   "metadata": {},
   "outputs": [
    {
     "name": "stdout",
     "output_type": "stream",
     "text": [
      "<class 'pandas.core.frame.DataFrame'>\n",
      "RangeIndex: 163065 entries, 0 to 163064\n",
      "Data columns (total 20 columns):\n",
      " #   Column                                 Non-Null Count   Dtype  \n",
      "---  ------                                 --------------   -----  \n",
      " 0   (DRG,)                                 163065 non-null  object \n",
      " 1   (Provider_Id,)                         163065 non-null  int64  \n",
      " 2   (Provider_Name,)                       163065 non-null  object \n",
      " 3   (Provider_StreetAddress,)              163065 non-null  object \n",
      " 4   (Provider_City,)                       163065 non-null  object \n",
      " 5   (Provider_State,)                      163065 non-null  object \n",
      " 6   (Provider_Zipcode,)                    163065 non-null  int64  \n",
      " 7   (Hospital_referral_region_desp,)       163065 non-null  object \n",
      " 8   (Total_Discharges,)                    163065 non-null  int64  \n",
      " 9   (Average_Covered_Charges,)             163065 non-null  float64\n",
      " 10  (Average_Total_Payments,)              163065 non-null  float64\n",
      " 11  (Average_Medicare_Payment,)            163065 non-null  float64\n",
      " 12  (TC_to_DRG_ref_Median_Ratio,)          163065 non-null  float64\n",
      " 13  (MC_to_DRG_ref_Median_Ratio,)          163065 non-null  float64\n",
      " 14  (MC_to_DRG_st_Median_Ratio,)           163065 non-null  float64\n",
      " 15  (TC_to_DRG_st_Median_Ratio,)           163065 non-null  float64\n",
      " 16  (Discharge_to_National_Median_Ratio,)  163065 non-null  float64\n",
      " 17  (Patient_Pay_st_DRG_Ratio,)            163065 non-null  float64\n",
      " 18  (Cost_Efficiency_st_DRG_Ratio,)        163065 non-null  float64\n",
      " 19  (Discharge_to_Payment_st_Ratio,)       163065 non-null  float64\n",
      "dtypes: float64(11), int64(3), object(6)\n",
      "memory usage: 24.9+ MB\n"
     ]
    }
   ],
   "source": [
    "df1.info()"
   ]
  },
  {
   "cell_type": "code",
   "execution_count": null,
   "metadata": {},
   "outputs": [],
   "source": [
    "df1.head()"
   ]
  },
  {
   "cell_type": "markdown",
   "metadata": {},
   "source": [
    "## 3. PCA - Principal Component Analysis  <a class=\"anchor\" id=\"Section_1\"></a>\n",
    "\n",
    "- A statistical technique used for exploratory data analysis and simplifying datasets by reducing their dimensionality.\n",
    "- It transforms the data to a new axis by identifying the directions (principal components) that maximize variance, aiding in visualization, noise reduction, and improving algorithm performance.\n",
    "\n",
    "By transforms forming data through PCA can make anomalies in the dataset stand out clearly. Outliers may not be obvious in the original high-dimensional space due to the complex relationships between variables, by rotating the axis we are able to pick out outliers easily.\n"
   ]
  },
  {
   "cell_type": "markdown",
   "metadata": {},
   "source": [
    "Before conducting the PCA, I will first standardize my features using sklearn"
   ]
  },
  {
   "cell_type": "code",
   "execution_count": 9,
   "metadata": {},
   "outputs": [],
   "source": [
    "pca_df = df1[['TC_to_DRG_ref_Median_Ratio','MC_to_DRG_ref_Median_Ratio',\n",
    "       'MC_to_DRG_st_Median_Ratio','TC_to_DRG_st_Median_Ratio','Discharge_to_National_Median_Ratio',\n",
    "       'Patient_Pay_st_DRG_Ratio', 'Cost_Efficiency_st_DRG_Ratio','Discharge_to_Payment_st_Ratio']]"
   ]
  },
  {
   "cell_type": "markdown",
   "metadata": {},
   "source": [
    "Before applying the PCA, I will first standardize the dataset"
   ]
  },
  {
   "cell_type": "code",
   "execution_count": 10,
   "metadata": {},
   "outputs": [],
   "source": [
    "from sklearn.preprocessing import StandardScaler \n",
    "scaler = StandardScaler() \n",
    "pca_df = scaler.fit_transform(pca_df) "
   ]
  },
  {
   "cell_type": "code",
   "execution_count": 11,
   "metadata": {},
   "outputs": [
    {
     "data": {
      "text/plain": [
       "array([[ 0.00821892,  0.00136676,  0.04196922, ..., -0.28034661,\n",
       "        -0.89982194, -1.03785172],\n",
       "       [-0.41204664, -0.39339268, -0.29760404, ..., -0.26753711,\n",
       "        -1.12547052, -0.72937638],\n",
       "       [ 0.04534141,  0.37907393,  0.24539035, ..., -0.56823101,\n",
       "         0.26825048,  0.90551662],\n",
       "       ...,\n",
       "       [ 0.10634968, -0.2452158 , -0.31872255, ..., -0.20655352,\n",
       "         0.11082618, -0.12189235],\n",
       "       [-0.5101774 , -0.14681012, -0.23697312, ..., -0.78096829,\n",
       "        -0.19189286, -0.53902904],\n",
       "       [-0.20191386, -0.19601296,  0.29682447, ...,  0.36004276,\n",
       "         0.53348487, -0.22278376]])"
      ]
     },
     "execution_count": 11,
     "metadata": {},
     "output_type": "execute_result"
    }
   ],
   "source": [
    "pca_df"
   ]
  },
  {
   "cell_type": "code",
   "execution_count": 12,
   "metadata": {},
   "outputs": [
    {
     "data": {
      "text/plain": [
       "PCA(contamination=0.05, copy=True, iterated_power='auto', n_components=None,\n",
       "  n_selected_components=None, random_state=None, standardization=True,\n",
       "  svd_solver='auto', tol=0.0, weighted=True, whiten=False)"
      ]
     },
     "execution_count": 12,
     "metadata": {},
     "output_type": "execute_result"
    }
   ],
   "source": [
    "from pyod.models.pca import PCA\n",
    "pca = PCA(contamination=0.05) \n",
    "pca.fit(pca_df)"
   ]
  },
  {
   "cell_type": "code",
   "execution_count": 13,
   "metadata": {},
   "outputs": [],
   "source": [
    "# get the prediction labels and outlier scores of the training data\n",
    "y_train_pred = pca.labels_  # binary labels (0: inliers, 1: outliers)\n",
    "y_train_scores = pca.decision_scores_  # .decision_scores_ yields the raw outlier scores for the training data\n",
    "y_train_scores = pca.decision_function(pca_df) # You also can use .decision_function()\n",
    "y_train_pred = pca.predict(pca_df) # You also can use .decision_function()\n"
   ]
  },
  {
   "cell_type": "code",
   "execution_count": 14,
   "metadata": {},
   "outputs": [
    {
     "data": {
      "text/plain": [
       "{'contamination': 0.05,\n",
       " 'copy': True,\n",
       " 'iterated_power': 'auto',\n",
       " 'n_components': None,\n",
       " 'n_selected_components': None,\n",
       " 'random_state': None,\n",
       " 'standardization': True,\n",
       " 'svd_solver': 'auto',\n",
       " 'tol': 0.0,\n",
       " 'weighted': True,\n",
       " 'whiten': False}"
      ]
     },
     "execution_count": 14,
     "metadata": {},
     "output_type": "execute_result"
    }
   ],
   "source": [
    "pca.get_params()"
   ]
  },
  {
   "cell_type": "code",
   "execution_count": 15,
   "metadata": {},
   "outputs": [
    {
     "data": {
      "text/plain": [
       "[array([3.57604561, 1.53467855, 1.08601836, 0.95211056, 0.4161588 ,\n",
       "        0.30635117, 0.11400139, 0.01468463]),\n",
       " array([0.44700296, 0.19183364, 0.13575146, 0.11901309, 0.05201953,\n",
       "        0.03829366, 0.01425009, 0.00183557])]"
      ]
     },
     "execution_count": 15,
     "metadata": {},
     "output_type": "execute_result"
    }
   ],
   "source": [
    "[pca.explained_variance_,\n",
    "pca.explained_variance_ratio_]"
   ]
  },
  {
   "cell_type": "markdown",
   "metadata": {},
   "source": [
    "\n",
    "The PCA variance explained indicates that the first principal component accounts for approximately 44.7% of the variance in the dataset, highlighting its significant role in capturing the data's underlying structure. The second and third components explain an additional 19.2% and 13.6% of the variance, respectively, suggesting that together, these top three components capture the majority of the dataset's variability, while the remaining components contribute progressively less, indicating diminishing returns on information gained."
   ]
  },
  {
   "cell_type": "code",
   "execution_count": 16,
   "metadata": {},
   "outputs": [
    {
     "name": "stdout",
     "output_type": "stream",
     "text": [
      "The threshold for 5% comtanimation rate: 3688.1231895196292\n"
     ]
    }
   ],
   "source": [
    "print(\"The threshold for 5% comtanimation rate:\" , pca.threshold_)"
   ]
  },
  {
   "cell_type": "code",
   "execution_count": 17,
   "metadata": {},
   "outputs": [
    {
     "data": {
      "image/png": "[encoded data removed]",
      "text/plain": [
       "<Figure size 640x480 with 1 Axes>"
      ]
     },
     "metadata": {},
     "output_type": "display_data"
    }
   ],
   "source": [
    "import matplotlib.pyplot as plt\n",
    "plt.hist(y_train_scores, bins='auto')  # arguments are passed to np.histogram\n",
    "plt.title(\"Histogram with 'auto' bins\")\n",
    "plt.xlabel('PCA outlier score')\n",
    "plt.show()"
   ]
  },
  {
   "cell_type": "code",
   "execution_count": 18,
   "metadata": {},
   "outputs": [
    {
     "data": {
      "text/html": [
       "<div>\n",
       "<style scoped>\n",
       "    .dataframe tbody tr th:only-of-type {\n",
       "        vertical-align: middle;\n",
       "    }\n",
       "\n",
       "    .dataframe tbody tr th {\n",
       "        vertical-align: top;\n",
       "    }\n",
       "\n",
       "    .dataframe thead th {\n",
       "        text-align: right;\n",
       "    }\n",
       "</style>\n",
       "<table border=\"1\" class=\"dataframe\">\n",
       "  <thead>\n",
       "    <tr style=\"text-align: right;\">\n",
       "      <th></th>\n",
       "      <th>Group</th>\n",
       "      <th>Count</th>\n",
       "      <th>Count %</th>\n",
       "      <th>0</th>\n",
       "      <th>1</th>\n",
       "      <th>2</th>\n",
       "      <th>3</th>\n",
       "      <th>4</th>\n",
       "      <th>5</th>\n",
       "      <th>6</th>\n",
       "      <th>7</th>\n",
       "      <th>Anomaly_Score</th>\n",
       "    </tr>\n",
       "  </thead>\n",
       "  <tbody>\n",
       "    <tr>\n",
       "      <th>0</th>\n",
       "      <td>Normal</td>\n",
       "      <td>154911</td>\n",
       "      <td>94.99954</td>\n",
       "      <td>-0.12</td>\n",
       "      <td>-0.11</td>\n",
       "      <td>-0.11</td>\n",
       "      <td>-0.12</td>\n",
       "      <td>-0.03</td>\n",
       "      <td>-0.04</td>\n",
       "      <td>-0.04</td>\n",
       "      <td>-0.06</td>\n",
       "      <td>1574.21</td>\n",
       "    </tr>\n",
       "    <tr>\n",
       "      <th>1</th>\n",
       "      <td>Outlier</td>\n",
       "      <td>8154</td>\n",
       "      <td>5.00046</td>\n",
       "      <td>2.25</td>\n",
       "      <td>2.05</td>\n",
       "      <td>2.14</td>\n",
       "      <td>2.36</td>\n",
       "      <td>0.50</td>\n",
       "      <td>0.68</td>\n",
       "      <td>0.79</td>\n",
       "      <td>1.23</td>\n",
       "      <td>5124.41</td>\n",
       "    </tr>\n",
       "  </tbody>\n",
       "</table>\n",
       "</div>"
      ],
      "text/plain": [
       "     Group   Count   Count %     0     1     2     3     4     5     6     7  \\\n",
       "0   Normal  154911  94.99954 -0.12 -0.11 -0.11 -0.12 -0.03 -0.04 -0.04 -0.06   \n",
       "1  Outlier    8154   5.00046  2.25  2.05  2.14  2.36  0.50  0.68  0.79  1.23   \n",
       "\n",
       "   Anomaly_Score  \n",
       "0        1574.21  \n",
       "1        5124.41  "
      ]
     },
     "execution_count": 18,
     "metadata": {},
     "output_type": "execute_result"
    }
   ],
   "source": [
    "threshold = pca.threshold_\n",
    "threshold\n",
    "\n",
    "def descriptive_stat_threshold(df,pred_score, threshold):\n",
    "    # Grouping observation in to Normal and Outliers\n",
    "    df = pd.DataFrame(df)\n",
    "    df['Anomaly_Score'] = pred_score\n",
    "    df['Group'] = np.where(df['Anomaly_Score']< threshold, 'Normal', 'Outlier')\n",
    "\n",
    "    # show the summary statistics:\n",
    "    cnt = df.groupby('Group')['Anomaly_Score'].count().reset_index().rename(columns={'Anomaly_Score':'Count'})\n",
    "    cnt['Count %'] = (cnt['Count'] / cnt['Count'].sum()) * 100 # The count and count %\n",
    "    stat = df.groupby('Group').mean().round(2).reset_index() # The avg.\n",
    "    stat = cnt.merge(stat, left_on='Group',right_on='Group') # Put the count and the avg. together\n",
    "    return (stat)\n",
    "\n",
    "descriptive_stat_threshold(pca_df,y_train_scores, threshold)"
   ]
  },
  {
   "cell_type": "markdown",
   "metadata": {},
   "source": [
    "The PCA results indicate that providers identified as outliers exhibit significantly distinct patterns across the PCs compared to result of data. The higher mean values in components 0 through 3 for the providers in outlier group suggest that these components are capturing aspects of the data where these providers differ substantially from the norm. This could reflect atypical billing practices, unusual patient care ratios, or other operational characteristics that are outliers compared to standard healthcare provider behavior. The considerably elevated anomaly scores for these providers serve as a quantitative measure of their deviation from the established patterns within the dataset, thus flagging them for further investigation which may reveal inefficiencies, billing inconsistencies, or even fraudulent activities."
   ]
  },
  {
   "cell_type": "markdown",
   "metadata": {},
   "source": [
    "## 4. KNN <a class=\"anchor\" id=\"Section_4\"></a>\n",
    "- KNN is a non-parametric algorithm used in both unsupervised and supervised learning for classification and regression.\n",
    "- it predicts and labels data points by looking at its 'k' closest labeled data points, taking a majority vote or average\n",
    "\n",
    "We can use KNN for fraud detection in healthcare analytics by analyzing the selected features for each provider and identifying those whose feature patterns significantly deviate from their neighbors. As outliers in this feature space may represent fraudulent activities, the proximity-based approach of KNN will flag providers with anomalous billing or operational practices when they don't cluster with the majority of other data points."
   ]
  },
  {
   "cell_type": "code",
   "execution_count": 19,
   "metadata": {},
   "outputs": [],
   "source": [
    "knn_df = df1[['TC_to_DRG_ref_Median_Ratio','MC_to_DRG_ref_Median_Ratio',\n",
    "       'MC_to_DRG_st_Median_Ratio','TC_to_DRG_st_Median_Ratio','Discharge_to_National_Median_Ratio',\n",
    "       'Patient_Pay_st_DRG_Ratio', 'Cost_Efficiency_st_DRG_Ratio','Discharge_to_Payment_st_Ratio']]\n",
    "\n",
    "knn_df = scaler.fit_transform(knn_df) "
   ]
  },
  {
   "cell_type": "code",
   "execution_count": 20,
   "metadata": {},
   "outputs": [
    {
     "data": {
      "text/plain": [
       "KNN(algorithm='auto', contamination=0.05, leaf_size=30, method='largest',\n",
       "  metric='minkowski', metric_params=None, n_jobs=1, n_neighbors=5, p=2,\n",
       "  radius=1.0)"
      ]
     },
     "execution_count": 20,
     "metadata": {},
     "output_type": "execute_result"
    }
   ],
   "source": [
    "from pyod.models.knn import KNN\n",
    "knn = KNN(contamination=0.05) \n",
    "knn.fit(knn_df)"
   ]
  },
  {
   "cell_type": "code",
   "execution_count": 21,
   "metadata": {},
   "outputs": [],
   "source": [
    "# fitting it to the dataset\n",
    "knn_scores = knn.decision_function(knn_df)\n",
    "knn_pred = knn.predict(knn_df)"
   ]
  },
  {
   "cell_type": "code",
   "execution_count": 22,
   "metadata": {},
   "outputs": [],
   "source": [
    "# Training data\n",
    "knn_scores = knn.decision_function(knn_df)\n",
    "knn_pred = knn.predict(knn_df)"
   ]
  },
  {
   "cell_type": "code",
   "execution_count": 23,
   "metadata": {},
   "outputs": [
    {
     "name": "stdout",
     "output_type": "stream",
     "text": [
      "The training data: {0: 155821, 1: 7244}\n",
      "The threshold for the defined comtanimation rate: 0.8400571052587505\n"
     ]
    }
   ],
   "source": [
    "def count_stat(vector):\n",
    "    # Because it is '0' and '1', we can run a count statistic. \n",
    "    unique, counts = np.unique(vector, return_counts=True)\n",
    "    return dict(zip(unique, counts))\n",
    "\n",
    "print(\"The training data:\", count_stat(knn_pred))\n",
    "# Threshold for the defined comtanimation rate\n",
    "print(\"The threshold for the defined comtanimation rate:\" , knn.threshold_)"
   ]
  },
  {
   "cell_type": "code",
   "execution_count": 24,
   "metadata": {},
   "outputs": [
    {
     "data": {
      "image/png": "[encoded data removed]",
      "text/plain": [
       "<Figure size 640x480 with 1 Axes>"
      ]
     },
     "metadata": {},
     "output_type": "display_data"
    }
   ],
   "source": [
    "#bullding a histogram showing the outlier score\n",
    "plt.hist(knn_scores, bins='auto')  \n",
    "plt.title(\"Histogram with 'auto' bins\")\n",
    "plt.xlabel('KNN outlier score')\n",
    "plt.show()"
   ]
  },
  {
   "cell_type": "code",
   "execution_count": 26,
   "metadata": {},
   "outputs": [
    {
     "data": {
      "text/html": [
       "<div>\n",
       "<style scoped>\n",
       "    .dataframe tbody tr th:only-of-type {\n",
       "        vertical-align: middle;\n",
       "    }\n",
       "\n",
       "    .dataframe tbody tr th {\n",
       "        vertical-align: top;\n",
       "    }\n",
       "\n",
       "    .dataframe thead th {\n",
       "        text-align: right;\n",
       "    }\n",
       "</style>\n",
       "<table border=\"1\" class=\"dataframe\">\n",
       "  <thead>\n",
       "    <tr style=\"text-align: right;\">\n",
       "      <th></th>\n",
       "      <th>Group</th>\n",
       "      <th>Count</th>\n",
       "      <th>Count %</th>\n",
       "      <th>0</th>\n",
       "      <th>1</th>\n",
       "      <th>2</th>\n",
       "      <th>3</th>\n",
       "      <th>4</th>\n",
       "      <th>5</th>\n",
       "      <th>6</th>\n",
       "      <th>7</th>\n",
       "      <th>Anomaly_Score</th>\n",
       "    </tr>\n",
       "  </thead>\n",
       "  <tbody>\n",
       "    <tr>\n",
       "      <th>0</th>\n",
       "      <td>Normal</td>\n",
       "      <td>155821</td>\n",
       "      <td>95.5576</td>\n",
       "      <td>-0.07</td>\n",
       "      <td>-0.05</td>\n",
       "      <td>-0.06</td>\n",
       "      <td>-0.09</td>\n",
       "      <td>-0.01</td>\n",
       "      <td>-0.07</td>\n",
       "      <td>-0.04</td>\n",
       "      <td>-0.06</td>\n",
       "      <td>0.36</td>\n",
       "    </tr>\n",
       "    <tr>\n",
       "      <th>1</th>\n",
       "      <td>Outlier</td>\n",
       "      <td>7244</td>\n",
       "      <td>4.4424</td>\n",
       "      <td>1.60</td>\n",
       "      <td>1.05</td>\n",
       "      <td>1.27</td>\n",
       "      <td>1.87</td>\n",
       "      <td>0.28</td>\n",
       "      <td>1.44</td>\n",
       "      <td>0.82</td>\n",
       "      <td>1.28</td>\n",
       "      <td>1.29</td>\n",
       "    </tr>\n",
       "  </tbody>\n",
       "</table>\n",
       "</div>"
      ],
      "text/plain": [
       "     Group   Count  Count %     0     1     2     3     4     5     6     7  \\\n",
       "0   Normal  155821  95.5576 -0.07 -0.05 -0.06 -0.09 -0.01 -0.07 -0.04 -0.06   \n",
       "1  Outlier    7244   4.4424  1.60  1.05  1.27  1.87  0.28  1.44  0.82  1.28   \n",
       "\n",
       "   Anomaly_Score  \n",
       "0           0.36  \n",
       "1           1.29  "
      ]
     },
     "execution_count": 26,
     "metadata": {},
     "output_type": "execute_result"
    }
   ],
   "source": [
    "\n",
    "threshold = knn.threshold_\n",
    "def descriptive_stat_threshold(df,pred_score, threshold):\n",
    "    # distinguish the normal and outliers by the threshold\n",
    "    df = pd.DataFrame(df)\n",
    "    df['Anomaly_Score'] = pred_score\n",
    "    df['Group'] = np.where(df['Anomaly_Score']< threshold, 'Normal', 'Outlier')\n",
    "\n",
    "    # Now let's show the summary statistics:\n",
    "    cnt = df.groupby('Group')['Anomaly_Score'].count().reset_index().rename(columns={'Anomaly_Score':'Count'})\n",
    "    cnt['Count %'] = (cnt['Count'] / cnt['Count'].sum()) * 100 # The count and count %\n",
    "    stat = df.groupby('Group').mean().round(2).reset_index() # The avg.\n",
    "    stat = cnt.merge(stat, left_on='Group',right_on='Group') # Put the count and the avg. together\n",
    "    return (stat)\n",
    "\n",
    "descriptive_stat_threshold(knn_df,knn_scores, threshold)"
   ]
  },
  {
   "cell_type": "markdown",
   "metadata": {},
   "source": [
    "The mean anomaly score for the outliers is significantly higher than for the normal group, indicating that KNN has effectively identified a subset of data points that diverge from the typical patterns found within the selected healthcare features. The high anomaly scores associated with the outliers indicate that these data points are relatively isolated from their neighbors. This isolation could correspond to irregularities or unusual patterns in billing, treatment, and operational practices within the healthcare data.\n",
    "\n",
    "Given these results, the identified outliers should be further investigated. They could represent potential fraudulent behavior, such as billing for services not provided or overcharging, or they could be legitimate anomalies, such as rare medical cases or data entry errors. Therefore, while KNN has provided a useful initial filter for potential fraud detection, additional analysis and contextual inquiry are crucial to ascertain the true nature of these outliers in healthcare analytics."
   ]
  }
 ],
 "metadata": {
  "kernelspec": {
   "display_name": "Python 3 (ipykernel)",
   "language": "python",
   "name": "python3"
  },
  "language_info": {
   "codemirror_mode": {
    "name": "ipython",
    "version": 3
   },
   "file_extension": ".py",
   "mimetype": "text/x-python",
   "name": "python",
   "nbconvert_exporter": "python",
   "pygments_lexer": "ipython3",
   "version": "3.9.13"
  },
  "vscode": {
   "interpreter": {
    "hash": "91dc1fcfb5227e97eff11034549a87f267236fe750c96cdd444e581e2dafce95"
   }
  }
 },
 "nbformat": 4,
 "nbformat_minor": 2
}
